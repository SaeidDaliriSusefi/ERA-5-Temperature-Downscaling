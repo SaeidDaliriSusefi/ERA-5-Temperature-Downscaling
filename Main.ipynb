{
  "nbformat": 4,
  "nbformat_minor": 0,
  "metadata": {
    "colab": {
      "provenance": [],
      "include_colab_link": true
    },
    "kernelspec": {
      "name": "python3",
      "display_name": "Python 3"
    },
    "language_info": {
      "name": "python"
    }
  },
  "cells": [
    {
      "cell_type": "markdown",
      "metadata": {
        "id": "view-in-github",
        "colab_type": "text"
      },
      "source": [
        "<a href=\"https://colab.research.google.com/github/SaeidDaliriSusefi/ERA-5-Temperature-Downscaling/blob/main/Main.ipynb\" target=\"_parent\"><img src=\"https://colab.research.google.com/assets/colab-badge.svg\" alt=\"Open In Colab\"/></a>"
      ]
    },
    {
      "cell_type": "code",
      "execution_count": 1,
      "metadata": {
        "id": "tMDBBXm5KQGR"
      },
      "outputs": [],
      "source": [
        "import ee\n",
        "import geemap"
      ]
    },
    {
      "cell_type": "code",
      "source": [
        "ee.Authenticate()\n",
        "ee.Initialize(project=\"Your google earth engine project name\", opt_url='https://earthengine-highvolume.googleapis.com')"
      ],
      "metadata": {
        "colab": {
          "base_uri": "https://localhost:8080/",
          "height": 17
        },
        "id": "OzGNNi7RKZWn",
        "outputId": "1741a7f9-6a91-42a3-fa96-ac4bceec8f0b"
      },
      "execution_count": 2,
      "outputs": [
        {
          "output_type": "display_data",
          "data": {
            "text/plain": [
              "<IPython.core.display.HTML object>"
            ],
            "text/html": [
              "\n",
              "            <style>\n",
              "                .geemap-dark {\n",
              "                    --jp-widgets-color: white;\n",
              "                    --jp-widgets-label-color: white;\n",
              "                    --jp-ui-font-color1: white;\n",
              "                    --jp-layout-color2: #454545;\n",
              "                    background-color: #383838;\n",
              "                }\n",
              "\n",
              "                .geemap-dark .jupyter-button {\n",
              "                    --jp-layout-color3: #383838;\n",
              "                }\n",
              "\n",
              "                .geemap-colab {\n",
              "                    background-color: var(--colab-primary-surface-color, white);\n",
              "                }\n",
              "\n",
              "                .geemap-colab .jupyter-button {\n",
              "                    --jp-layout-color3: var(--colab-primary-surface-color, white);\n",
              "                }\n",
              "            </style>\n",
              "            "
            ]
          },
          "metadata": {}
        }
      ]
    },
    {
      "cell_type": "code",
      "source": [
        "country_name =                                # Country's name            # str\n",
        "region_name =                                 # Region's name             # str\n",
        "sample_time_start =                           # Start data YYYY-MM-DD     # str\n",
        "sample_time_end =                             # End data YYYY-MM-DD       # str\n",
        "model_time_start =                            # End data YYYY-MM-DD       # str\n",
        "model_time_end =                              # End data YYYY-MM-DD       # str"
      ],
      "metadata": {
        "id": "hlXiL7cjKztU",
        "colab": {
          "base_uri": "https://localhost:8080/",
          "height": 17
        },
        "outputId": "7ac9de17-0f99-4297-adcf-10aab088c5a8"
      },
      "execution_count": 108,
      "outputs": [
        {
          "output_type": "display_data",
          "data": {
            "text/plain": [
              "<IPython.core.display.HTML object>"
            ],
            "text/html": [
              "\n",
              "            <style>\n",
              "                .geemap-dark {\n",
              "                    --jp-widgets-color: white;\n",
              "                    --jp-widgets-label-color: white;\n",
              "                    --jp-ui-font-color1: white;\n",
              "                    --jp-layout-color2: #454545;\n",
              "                    background-color: #383838;\n",
              "                }\n",
              "\n",
              "                .geemap-dark .jupyter-button {\n",
              "                    --jp-layout-color3: #383838;\n",
              "                }\n",
              "\n",
              "                .geemap-colab {\n",
              "                    background-color: var(--colab-primary-surface-color, white);\n",
              "                }\n",
              "\n",
              "                .geemap-colab .jupyter-button {\n",
              "                    --jp-layout-color3: var(--colab-primary-surface-color, white);\n",
              "                }\n",
              "            </style>\n",
              "            "
            ]
          },
          "metadata": {}
        }
      ]
    },
    {
      "cell_type": "code",
      "source": [
        "def convert_to_monthly_sum(collection, start, end):\n",
        "    start_date = ee.Date(start)\n",
        "    end_date = ee.Date(end)\n",
        "\n",
        "    adjusted_end = ee.Algorithms.If(\n",
        "        ee.Number(end_date.get('day')).eq(1),\n",
        "        end_date.advance(-1, 'day'),\n",
        "        end_date\n",
        "    )\n",
        "    end_date = ee.Date(adjusted_end)\n",
        "\n",
        "    months = ee.List.sequence(0, end_date.difference(start_date, 'month'))\n",
        "\n",
        "    def map_month(m):\n",
        "        m = ee.Number(m)\n",
        "        start_m = start_date.advance(m, 'month')\n",
        "        end_m = start_m.advance(1, 'month')\n",
        "\n",
        "        filtered = collection.filterDate(start_m, end_m)\n",
        "        monthly_image = filtered.sum() \\\n",
        "            .set('system:time_start', start_m.millis())\n",
        "\n",
        "        first_image = ee.Image(filtered.first())\n",
        "        monthly_image = monthly_image.copyProperties(first_image, first_image.propertyNames())\n",
        "\n",
        "        return monthly_image\n",
        "\n",
        "    return ee.ImageCollection.fromImages(months.map(map_month))\n",
        "\n",
        "\n",
        "def convert_to_monthly_average(collection, start, end):\n",
        "    start_date = ee.Date(start)\n",
        "    end_date = ee.Date(end)\n",
        "\n",
        "    adjusted_end = ee.Algorithms.If(\n",
        "        ee.Number(end_date.get('day')).eq(1),\n",
        "        end_date.advance(-1, 'day'),\n",
        "        end_date\n",
        "    )\n",
        "    end_date = ee.Date(adjusted_end)\n",
        "\n",
        "    months = ee.List.sequence(0, end_date.difference(start_date, 'month'))\n",
        "\n",
        "    def map_month(m):\n",
        "        m = ee.Number(m)\n",
        "        start_m = start_date.advance(m, 'month')\n",
        "        end_m = start_m.advance(1, 'month')\n",
        "\n",
        "        filtered = collection.filterDate(start_m, end_m)\n",
        "        monthly_image = filtered.mean() \\\n",
        "            .set('system:time_start', start_m.millis())\n",
        "\n",
        "        first_image = ee.Image(filtered.first())\n",
        "        monthly_image = monthly_image.copyProperties(first_image, first_image.propertyNames())\n",
        "\n",
        "        return monthly_image\n",
        "\n",
        "    return ee.ImageCollection.fromImages(months.map(map_month))"
      ],
      "metadata": {
        "colab": {
          "base_uri": "https://localhost:8080/",
          "height": 17
        },
        "id": "LvVbyUA4LqhW",
        "outputId": "59ade8f3-a747-4771-aa03-61faa2319b96"
      },
      "execution_count": 107,
      "outputs": [
        {
          "output_type": "display_data",
          "data": {
            "text/plain": [
              "<IPython.core.display.HTML object>"
            ],
            "text/html": [
              "\n",
              "            <style>\n",
              "                .geemap-dark {\n",
              "                    --jp-widgets-color: white;\n",
              "                    --jp-widgets-label-color: white;\n",
              "                    --jp-ui-font-color1: white;\n",
              "                    --jp-layout-color2: #454545;\n",
              "                    background-color: #383838;\n",
              "                }\n",
              "\n",
              "                .geemap-dark .jupyter-button {\n",
              "                    --jp-layout-color3: #383838;\n",
              "                }\n",
              "\n",
              "                .geemap-colab {\n",
              "                    background-color: var(--colab-primary-surface-color, white);\n",
              "                }\n",
              "\n",
              "                .geemap-colab .jupyter-button {\n",
              "                    --jp-layout-color3: var(--colab-primary-surface-color, white);\n",
              "                }\n",
              "            </style>\n",
              "            "
            ]
          },
          "metadata": {}
        }
      ]
    },
    {
      "cell_type": "code",
      "source": [
        "country = ee.FeatureCollection(\"FAO/GAUL_SIMPLIFIED_500m/2015/level1\").filter(ee.Filter.eq('ADM0_NAME',country_name))\n",
        "Region = country.filter(ee.Filter.eq('ADM1_NAME',region_name ))\n",
        "roi=Region.geometry()"
      ],
      "metadata": {
        "id": "LtQLMLvxUKR1",
        "outputId": "27ee2848-cbe9-4965-f321-fbd13514b872",
        "colab": {
          "base_uri": "https://localhost:8080/",
          "height": 17
        }
      },
      "execution_count": 111,
      "outputs": [
        {
          "output_type": "display_data",
          "data": {
            "text/plain": [
              "<IPython.core.display.HTML object>"
            ],
            "text/html": [
              "\n",
              "            <style>\n",
              "                .geemap-dark {\n",
              "                    --jp-widgets-color: white;\n",
              "                    --jp-widgets-label-color: white;\n",
              "                    --jp-ui-font-color1: white;\n",
              "                    --jp-layout-color2: #454545;\n",
              "                    background-color: #383838;\n",
              "                }\n",
              "\n",
              "                .geemap-dark .jupyter-button {\n",
              "                    --jp-layout-color3: #383838;\n",
              "                }\n",
              "\n",
              "                .geemap-colab {\n",
              "                    background-color: var(--colab-primary-surface-color, white);\n",
              "                }\n",
              "\n",
              "                .geemap-colab .jupyter-button {\n",
              "                    --jp-layout-color3: var(--colab-primary-surface-color, white);\n",
              "                }\n",
              "            </style>\n",
              "            "
            ]
          },
          "metadata": {}
        }
      ]
    },
    {
      "cell_type": "code",
      "source": [
        "Era5_11km = (\n",
        "    ee.ImageCollection(\"ECMWF/ERA5_LAND/DAILY_AGGR\")\n",
        "    .select('skin_temperature')\n",
        "    .filterDate(sample_time_start, sample_time_end)\n",
        "    .map(lambda img: img.toInt()\n",
        "         .copyProperties(img, img.propertyNames())\n",
        "         .set('date', img.date().format('YYYY-MM')))\n",
        ")\n"
      ],
      "metadata": {
        "id": "67CUfTEDL0Ww"
      },
      "execution_count": 122,
      "outputs": []
    },
    {
      "cell_type": "code",
      "source": [
        "Modis = (\n",
        "    ee.ImageCollection('MODIS/061/MOD11A1')\n",
        "    .select('LST_Day_1km')\n",
        "    .filterDate(sample_time_start, sample_time_end)\n",
        "    .map(lambda img: img.toInt()\n",
        "         .copyProperties(img, img.propertyNames())\n",
        "         .set('date', img.date().format('YYYY-MM')))\n",
        ")"
      ],
      "metadata": {
        "id": "oeWDj0UiMzBO"
      },
      "execution_count": 122,
      "outputs": []
    },
    {
      "cell_type": "code",
      "source": [
        "def merge_collections(era5_img):\n",
        "    date = era5_img.get('date')  # Get the date from the ERA5 image\n",
        "\n",
        "    modis_match = Modis.filter(ee.Filter.eq('date', date)).first()\n",
        "\n",
        "    modis_lst = modis_match.select('LST_Day_1km')\n",
        "\n",
        "    cons = ee.Image.constant(1)\n",
        "\n",
        "    merged_image = era5_img.addBands(modis_lst.rename('MODIS_LST_Day_1km')).addBands(cons.rename('constant'))\n",
        "\n",
        "    return merged_image\n",
        "\n",
        "collection = Era5_11km.map(merge_collections)\n",
        "\n"
      ],
      "metadata": {
        "id": "RcZBV5EWPuAq"
      },
      "execution_count": 122,
      "outputs": []
    },
    {
      "cell_type": "code",
      "source": [
        "model = collection.reduce(ee.Reducer.linearRegression(2, 1))\n",
        "gain = model.select('coefficients').arrayGet([0,0])\n",
        "offset = model.select('coefficients').arrayGet([1,0])"
      ],
      "metadata": {
        "colab": {
          "base_uri": "https://localhost:8080/",
          "height": 17
        },
        "id": "qn4aIep5dugD",
        "outputId": "d2626e58-66cb-49aa-e023-c74a54f7bee5"
      },
      "execution_count": 117,
      "outputs": [
        {
          "output_type": "display_data",
          "data": {
            "text/plain": [
              "<IPython.core.display.HTML object>"
            ],
            "text/html": [
              "\n",
              "            <style>\n",
              "                .geemap-dark {\n",
              "                    --jp-widgets-color: white;\n",
              "                    --jp-widgets-label-color: white;\n",
              "                    --jp-ui-font-color1: white;\n",
              "                    --jp-layout-color2: #454545;\n",
              "                    background-color: #383838;\n",
              "                }\n",
              "\n",
              "                .geemap-dark .jupyter-button {\n",
              "                    --jp-layout-color3: #383838;\n",
              "                }\n",
              "\n",
              "                .geemap-colab {\n",
              "                    background-color: var(--colab-primary-surface-color, white);\n",
              "                }\n",
              "\n",
              "                .geemap-colab .jupyter-button {\n",
              "                    --jp-layout-color3: var(--colab-primary-surface-color, white);\n",
              "                }\n",
              "            </style>\n",
              "            "
            ]
          },
          "metadata": {}
        }
      ]
    },
    {
      "cell_type": "code",
      "source": [
        "Map = geemap.Map(basemap=\"SATELLITE\")\n",
        "\n",
        "era5_1km = (\n",
        "    ee.ImageCollection(\"ECMWF/ERA5_LAND/DAILY_AGGR\")\n",
        "    .select('skin_temperature')\n",
        "    .filterDate(model_time_start, model_time_end)\n",
        "    .map(lambda img: (\n",
        "        img.reproject(crs='EPSG:4326', scale=1000)\n",
        "           .multiply(gain)  #\n",
        "           .add(offset)\n",
        "           .rename('predicted')\n",
        "           .addBands(\n",
        "               img.reproject(crs='EPSG:4326', scale=1000)\n",
        "               .rename('era5_skin_temperature')\n",
        "           )\n",
        "           .addBands(ee.Image.constant(1).rename('constant'))\n",
        "           .copyProperties(img, img.propertyNames())\n",
        "    ))\n",
        ")\n",
        "\n",
        "count_1km = era5_1km.size().getInfo()\n",
        "image_list_1km = era5_1km.toList(count_1km)\n",
        "\n",
        "for i in range(count_1km):\n",
        "    img = ee.Image(image_list_1km.get(i)).clip(roi)\n",
        "    date = img.get('date').getInfo()\n",
        "\n",
        "    stats_predicted = img.select('predicted').reduceRegion(\n",
        "        reducer=ee.Reducer.minMax(),\n",
        "        geometry=roi,\n",
        "        scale=1000,  #\n",
        "        maxPixels=1e8\n",
        "    ).getInfo()\n",
        "\n",
        "    stats_era5 = img.select('era5_skin_temperature').reduceRegion(\n",
        "        reducer=ee.Reducer.minMax(),\n",
        "        geometry=roi,\n",
        "        scale=1000,\n",
        "        maxPixels=1e8\n",
        "    ).getInfo()\n",
        "\n",
        "    min_predicted = stats_predicted['predicted_min']\n",
        "    max_predicted = stats_predicted['predicted_max']\n",
        "\n",
        "    min_era5 = stats_era5['era5_skin_temperature_min']\n",
        "    max_era5 = stats_era5['era5_skin_temperature_max']\n",
        "\n",
        "    vis_params_predicted = {\n",
        "        'min': min_predicted,\n",
        "        'max': max_predicted,\n",
        "        'palette': ['Black', 'white']\n",
        "    }\n",
        "\n",
        "    vis_params_era5 = {\n",
        "        'min': min_era5,\n",
        "        'max': max_era5,\n",
        "        'palette': ['Black', 'white']\n",
        "    }\n",
        "\n",
        "    Map.addLayer(img.select('predicted'), vis_params_predicted, f\"Predicted ERA5 Skin Temperature {date}\")\n",
        "    Map.addLayer(img.select('era5_skin_temperature'), vis_params_era5, f\"ERA5 Skin Temperature {date}\")\n",
        "\n",
        "Map.centerObject(roi, 5)\n",
        "\n",
        "Map\n"
      ],
      "metadata": {
        "id": "OU4SQlRw0Tnp"
      },
      "execution_count": 122,
      "outputs": []
    }
  ]
}